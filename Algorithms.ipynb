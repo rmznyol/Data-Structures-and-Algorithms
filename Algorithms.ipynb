{
 "cells": [
  {
   "cell_type": "markdown",
   "id": "4daaa28f-6a40-41b3-b538-41c7af687b2b",
   "metadata": {},
   "source": [
    "# Algorithms"
   ]
  },
  {
   "cell_type": "markdown",
   "id": "f069bb15-9e68-4efc-83d1-ebd824b54571",
   "metadata": {},
   "source": [
    "## Recursion"
   ]
  },
  {
   "cell_type": "markdown",
   "id": "b1a06ef7-2369-4902-96b0-453d6a8e9efc",
   "metadata": {},
   "source": [
    "#### call Stack"
   ]
  },
  {
   "cell_type": "code",
   "execution_count": 4,
   "id": "dcde9307-817b-46d7-a0dd-fc1adbb3e517",
   "metadata": {},
   "outputs": [
    {
     "name": "stdout",
     "output_type": "stream",
     "text": [
      "Three\n",
      "two\n",
      "One\n"
     ]
    }
   ],
   "source": [
    "def functhree():\n",
    "    print('Three')\n",
    "\n",
    "def functwo():\n",
    "    functhree()\n",
    "    print('two')\n",
    "\n",
    "def funcone():\n",
    "    functwo()\n",
    "    print('One')\n",
    "    \n",
    "funcone()"
   ]
  },
  {
   "cell_type": "code",
   "execution_count": 17,
   "id": "5a11213c-4bf3-4242-be06-579b69450792",
   "metadata": {},
   "outputs": [
    {
     "name": "stdout",
     "output_type": "stream",
     "text": [
      "24\n",
      "24\n"
     ]
    }
   ],
   "source": [
    "#Factorial\n",
    "\n",
    "n=4\n",
    "fac=1\n",
    "for i in range(1,n+1):\n",
    "    fac*=i\n",
    "print(fac)\n",
    "\n",
    "#recursive function\n",
    "\n",
    "def factorial(n):\n",
    "    if n==1:\n",
    "        return 1\n",
    "    return n*factorial(n-1)\n",
    "\n",
    "print(factorial(n))\n",
    "\n",
    "#call stack: for n=4,\n",
    "#return 4.factorial(3)       <- 3rd next element of the stack after top\n",
    "#return 3.factorial(2)       <- 2nd next element of the stack after top\n",
    "#return 2.factorial(1)       <-next element of the stack after top\n",
    "#return 1                    <- top of the stack\n",
    "\n",
    "#DISTINCT INSTANCES OF FACTORIAL FUNCTION!"
   ]
  },
  {
   "cell_type": "markdown",
   "id": "3219f556-ed04-4349-85a0-5830e81c904d",
   "metadata": {},
   "source": [
    "## Basic Sorts"
   ]
  },
  {
   "cell_type": "markdown",
   "id": "9cdbef47-4bca-4fbc-b655-0e4d3eabfe90",
   "metadata": {},
   "source": [
    "#### Bubble Sort"
   ]
  },
  {
   "cell_type": "code",
   "execution_count": 13,
   "id": "3d187c4d-2956-4c53-86e7-2cd8399bc743",
   "metadata": {},
   "outputs": [],
   "source": [
    "def bubble_sort(my_list):\n",
    "    for i in range(len(my_list)-1,0,-1):\n",
    "        for j in range(i):\n",
    "            if my_list[j]>my_list[j+1]:\n",
    "                temp=my_list[j+1]\n",
    "                my_list[j+1]=my_list[j]\n",
    "                my_list[j]=temp\n",
    "    return(my_list)     \n",
    "\n",
    "#O(n^2)\n"
   ]
  },
  {
   "cell_type": "markdown",
   "id": "d75c8765-4b52-4ae9-ae16-57a26dd6d641",
   "metadata": {},
   "source": [
    "#### Selection Sort"
   ]
  },
  {
   "cell_type": "code",
   "execution_count": null,
   "id": "aa45966e-12a3-47d6-960f-23647cc08008",
   "metadata": {},
   "outputs": [],
   "source": [
    "def selection_sort(my_list):\n",
    "    for i in range(len(my_list)-1):\n",
    "        min_index=i\n",
    "        for j in range(i+1,len(my_list)):\n",
    "            if my_list[j]<my_list[min_index]:\n",
    "                min_index=j\n",
    "        if i!=min_index:\n",
    "            min_temp=my_list[min_index]\n",
    "            my_list[min_index]=my_list[i]\n",
    "            my_list[i]=min_temp\n",
    "    return my_list\n",
    "    "
   ]
  },
  {
   "cell_type": "markdown",
   "id": "955d2cc6-2986-4512-af36-49dc1b82356e",
   "metadata": {},
   "source": [
    "#### Insertation sort"
   ]
  },
  {
   "cell_type": "code",
   "execution_count": 87,
   "id": "363426a2-e659-4253-8196-15fd61652d30",
   "metadata": {},
   "outputs": [],
   "source": [
    "\n",
    "# key is compared with the previous elements\n",
    "def insertation_sort(my_list):\n",
    "    for i in range(1,len(my_list)):\n",
    "        key = my_list[i]\n",
    "        for j in range(1,i+1):\n",
    "            if key<my_list[i-j]:\n",
    "                my_list[i-j+1]=my_list[i-j]\n",
    "                my_list[i-j]=key\n",
    "    return my_list\n",
    "\n",
    "def insertation_sort_while(my_list):\n",
    "    for i in range(1,len(my_list)):\n",
    "        key = my_list[i]\n",
    "        j=i-1\n",
    "        while key<my_list[j] and j>-1:\n",
    "            my_list[j+1]=my_list[j]\n",
    "            my_list[j]=key\n",
    "            j-=1\n",
    "    return my_list\n",
    "\n",
    "# for big O this is quite advantageous, with insertation if a list is sorted the second while wont run at all\n",
    "\n"
   ]
  },
  {
   "cell_type": "markdown",
   "id": "d71a949b-04e6-4e90-a3d6-97b15425d70c",
   "metadata": {},
   "source": [
    "#### REMARK= Only Insertion Sort is O(n) when you start with sorted (or almost sorted) data.\n",
    "#### REMARK=all of 3, have O(1) space complexity. No new list is created"
   ]
  },
  {
   "cell_type": "markdown",
   "id": "7266e9b0-36c8-4a1b-a647-7535e34cd522",
   "metadata": {},
   "source": [
    "### Merge Sort"
   ]
  },
  {
   "cell_type": "markdown",
   "id": "ef38f3c1-6256-4748-a551-50f9c3d6603d",
   "metadata": {},
   "source": [
    "##### Merge\n",
    "\n",
    "O(nlog(n)) time --- breaking apart O(logn) merging them O(n)!!\n",
    "\n",
    "O(n) space complexity!!! we are stacking functions (len(list)-many) "
   ]
  },
  {
   "cell_type": "code",
   "execution_count": 152,
   "id": "26ee84c6-1c13-4417-bd73-0dd9cc694a9c",
   "metadata": {},
   "outputs": [],
   "source": [
    "# for sorted lists \n",
    "\n",
    "def merge(list1,list2):\n",
    "    merged=list()\n",
    "    i,j=0,0\n",
    "    while i<len(list1) and j<len(list2):\n",
    "        if list1[i]<list2[j]:\n",
    "            merged.append(list1[i])\n",
    "            i+=1\n",
    "        else:\n",
    "            merged.append(list2[j])\n",
    "            j+=1\n",
    "    \n",
    "    return merged+list1[i:]+list2[j:]"
   ]
  },
  {
   "cell_type": "code",
   "execution_count": 158,
   "id": "9c7b8528-4484-4d03-b4ad-12ffd8e46973",
   "metadata": {},
   "outputs": [],
   "source": [
    "def merge_sort(my_list):\n",
    "    if len(my_list)==1:\n",
    "        return(my_list)\n",
    "    h=len(my_list)//2\n",
    "    return merge(merge_sort(my_list[:h]),merge_sort(my_list[h:]))"
   ]
  },
  {
   "cell_type": "markdown",
   "id": "b16d6786-185f-4be0-82a3-b53aed302990",
   "metadata": {},
   "source": [
    "## If you are sorting multiple types of data -- not just numbers--O(nlog(n)) is the best it can be for time complexity. "
   ]
  },
  {
   "cell_type": "markdown",
   "id": "60b5cb57-63ff-4e2f-af85-d8f33ddc540d",
   "metadata": {},
   "source": [
    "# Quick Sort!"
   ]
  },
  {
   "cell_type": "markdown",
   "id": "88ae4ee0-d955-48ab-8118-05979364d79c",
   "metadata": {},
   "source": [
    "#### Pivot Function\n",
    "\n",
    "takes a list sorts it so that values lower than pivot are placed on the left and the rest is placed on the right, also returns the index "
   ]
  },
  {
   "cell_type": "code",
   "execution_count": 72,
   "id": "e9946470-dbda-4b67-876e-0cd1b5dc1da3",
   "metadata": {},
   "outputs": [],
   "source": [
    "def swap(mylist,index1,index2):\n",
    "    temp=mylist[index1]\n",
    "    mylist[index1]=mylist[index2]\n",
    "    mylist[index2]=temp\n",
    "\n",
    "def pivot(mylist,pivot_index,end_index):\n",
    "    swap_index=pivot_index\n",
    "    for i in range(pivot_index+1,end_index+1):\n",
    "        if mylist[i]<mylist[pivot_index]:\n",
    "            swap_index+=1\n",
    "            swap(mylist,swap_index,i)\n",
    "    swap(mylist,pivot_index,swap_index)\n",
    "    return swap_index\n",
    "            \n",
    "        "
   ]
  },
  {
   "cell_type": "code",
   "execution_count": 75,
   "id": "97562e95-bb21-4c4d-b349-d2f904dcdb00",
   "metadata": {},
   "outputs": [],
   "source": [
    "# Extremely inefficient  attempt before understanding the code, although it was fun to code\n",
    "\n",
    "def pivot_bad(mylist):\n",
    "    pivot=mylist[0]\n",
    "    # we only consider the unorganized part\n",
    "    for i in range(1,len(mylist)-1):\n",
    "        #comparing the numbers until we find something smalller\n",
    "        for j in range(i+1,len(mylist)):\n",
    "            # if the number is smaller than the pivot we stop it and swap\n",
    "            # swapping breaks this loop and move on the next smaller unorganized part\n",
    "            # Note that if jth element is not smaller then we simply go to j+1 here since there is no else. \n",
    "            if mylist[j]<pivot:\n",
    "                swap=mylist[j]\n",
    "                mylist[j]=mylist[i]\n",
    "                mylist[i]=swap\n",
    "                break\n",
    "            # if this loop goes until the very end then it means there is nothing smaller than the pivot, in this case the following line will be triggered since loop is completed\n",
    "            # if this happens for any i, there is no point of doing more with the loop so we stop\n",
    "        else:\n",
    "            mylist[0]=mylist[i-1]\n",
    "            mylist[i-1]=pivot\n",
    "            return mylist, f'pivot index={i-1}'\n",
    "    #if we went throught the loop it means there is nothing smaller than pivot, so we need to replace the first element with the last\n",
    "    mylist[0]=mylist[len(mylist)-1]\n",
    "    mylist[len(mylist)-1]=pivot\n",
    "    return mylist\n",
    "\n"
   ]
  },
  {
   "cell_type": "code",
   "execution_count": 92,
   "id": "75622bb6-4699-4201-a260-d55691ed0980",
   "metadata": {},
   "outputs": [],
   "source": [
    "def quick_sort_helper(mylist,left,right):\n",
    "    if left<right:\n",
    "        pivot_index=pivot(mylist,left,right)\n",
    "        quick_sort_helper(mylist,left,pivot_index-1)\n",
    "        quick_sort_helper(mylist,pivot_index+1,right)\n",
    "    return mylist\n",
    "def quick_sort(mylist):\n",
    "    return quick_sort_helper(mylist,0,len(mylist)-1)"
   ]
  },
  {
   "cell_type": "code",
   "execution_count": 93,
   "id": "f1b5e8a4-4124-454a-ae59-257ed5935ce1",
   "metadata": {},
   "outputs": [
    {
     "data": {
      "text/plain": [
       "[1, 2, 3, 4, 5, 6, 7]"
      ]
     },
     "execution_count": 93,
     "metadata": {},
     "output_type": "execute_result"
    }
   ],
   "source": [
    "quick_sort([4,6,1,7,3,2,5])"
   ]
  },
  {
   "cell_type": "markdown",
   "id": "8e3f1e95-f534-4b25-97a4-16cefd5cb90e",
   "metadata": {},
   "source": [
    "### Quick sort is O(nlog(n)) for time, n coming from the pivot and log(n) coming from divide and conquer\n",
    "but if it is sorted than it is O(n^2), because you dont divide an conquer evenly. you divide in the very first element and apply pivot for the remaining elements"
   ]
  },
  {
   "cell_type": "markdown",
   "id": "1c483d27-1445-4ffd-ad13-8a2145db9638",
   "metadata": {},
   "source": [
    "# Tree Treversal \n",
    "\n",
    "Breadth First Search \\\n",
    "Depth First Search"
   ]
  },
  {
   "cell_type": "markdown",
   "id": "d76bccbb-a318-41e9-a6f4-6b160ea598eb",
   "metadata": {},
   "source": [
    "## Breadth First Search\n",
    "\n",
    "works with queue"
   ]
  },
  {
   "cell_type": "code",
   "execution_count": null,
   "id": "37719ec1-cb83-4a96-9bff-12bdc209f441",
   "metadata": {},
   "outputs": [],
   "source": [
    "def BFS(self):\n",
    "    current_node=self.root\n",
    "    queue=[] #note ideal to create with lists\n",
    "    results=[]\n",
    "    queue.append(current_node)\n",
    "    \n",
    "    while len(queue)>0:\n",
    "        current_node=queue.pop(0)\n",
    "        results.append(current_node.value)\n",
    "        if current_node.left is not None:\n",
    "            queue.append(current_node.left)\n",
    "        if current_node.right is not None:\n",
    "            queue.append(current_node.right)\n",
    "    return results\n",
    "        \n",
    "    \n",
    "    \n",
    "    "
   ]
  },
  {
   "cell_type": "markdown",
   "id": "c24f6818-857d-4046-9056-37bca9321c3e",
   "metadata": {},
   "source": [
    "## Depth First Search \n",
    "Call stack here is very important\n",
    "### Pre-Order"
   ]
  },
  {
   "cell_type": "code",
   "execution_count": 97,
   "id": "7cbdff3a-1b04-4e60-a976-db6b0bca73ed",
   "metadata": {},
   "outputs": [],
   "source": [
    "def dfs_pre_order(self):\n",
    "    results=[]\n",
    "    def traverse(current_node):\n",
    "        results.append(current_node.value)\n",
    "        if current_node.left is not None:\n",
    "            traverse(current_node.left)\n",
    "        if current_node.right is not None:\n",
    "            traverse(current_node.right)\n",
    "    traverse(self.root)\n",
    "    return results\n",
    "    \n",
    "    "
   ]
  },
  {
   "cell_type": "markdown",
   "id": "3fc35a41-541e-4cda-8b4f-f28c3c1732f5",
   "metadata": {},
   "source": [
    "### Post-Order"
   ]
  },
  {
   "cell_type": "code",
   "execution_count": 98,
   "id": "3af54ec0-874f-4e58-9016-15cfb32bc766",
   "metadata": {},
   "outputs": [],
   "source": [
    "def dfs_pre_order(self):\n",
    "    results=[]\n",
    "    def traverse(current_node):\n",
    "        if current_node.left is not None:\n",
    "            traverse(current_node.left)\n",
    "        if current_node.right is not None:\n",
    "            traverse(current_node.right)\n",
    "        results.append(current_node.value)\n",
    "    traverse(self.root)\n",
    "    return results"
   ]
  },
  {
   "cell_type": "markdown",
   "id": "72b57157-e01e-4b5e-8f73-974e181d25b4",
   "metadata": {},
   "source": [
    "### InOrder "
   ]
  },
  {
   "cell_type": "code",
   "execution_count": 99,
   "id": "003aae1b-9056-4c07-9ea7-60f3a46dbb81",
   "metadata": {},
   "outputs": [],
   "source": [
    "def dfs_pre_order(self):\n",
    "    results=[]\n",
    "    def traverse(current_node):\n",
    "        if current_node.left is not None:\n",
    "            traverse(current_node.left)\n",
    "        results.append(current_node.value)\n",
    "        if current_node.right is not None:\n",
    "            traverse(current_node.right)     \n",
    "    traverse(self.root)\n",
    "    return results"
   ]
  }
 ],
 "metadata": {
  "kernelspec": {
   "display_name": "Python 3 (ipykernel)",
   "language": "python",
   "name": "python3"
  },
  "language_info": {
   "codemirror_mode": {
    "name": "ipython",
    "version": 3
   },
   "file_extension": ".py",
   "mimetype": "text/x-python",
   "name": "python",
   "nbconvert_exporter": "python",
   "pygments_lexer": "ipython3",
   "version": "3.9.7"
  }
 },
 "nbformat": 4,
 "nbformat_minor": 5
}
